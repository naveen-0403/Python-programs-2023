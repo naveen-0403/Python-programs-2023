{
  "nbformat": 4,
  "nbformat_minor": 0,
  "metadata": {
    "colab": {
      "provenance": []
    },
    "kernelspec": {
      "name": "python3",
      "display_name": "Python 3"
    },
    "language_info": {
      "name": "python"
    }
  },
  "cells": [
    {
      "cell_type": "code",
      "execution_count": 4,
      "metadata": {
        "colab": {
          "base_uri": "https://localhost:8080/",
          "height": 332
        },
        "id": "ME7WV0kiHZmJ",
        "outputId": "93861729-5f1a-4e46-a7ce-2cec08bc0413"
      },
      "outputs": [
        {
          "output_type": "stream",
          "name": "stdout",
          "text": [
            "Estimated coefficients:\n",
            "b_0 = -72.12610851703226 \t\t\n",
            "b_1 = 38.85752959649575\n"
          ]
        },
        {
          "output_type": "display_data",
          "data": {
            "text/plain": [
              "<Figure size 432x288 with 1 Axes>"
            ],
            "image/png": "[encoded data removed]"
          },
          "metadata": {
            "needs_background": "light"
          }
        }
      ],
      "source": [
        "import numpy as np\n",
        "import matplotlib.pyplot as plt\n",
        "\n",
        "def estimate_coef(x, y):\n",
        "\tn = np.size(x)\n",
        " \n",
        "\tm_x = np.mean(x)\n",
        "\tm_y = np.mean(y)\n",
        "# numerator of the formula\n",
        "\tSS_xy = np.sum(y*x) - n*m_y*m_x\n",
        "# denominator of the formula\n",
        "\tSS_xx = np.sum(x*x) - n*m_x*m_x\n",
        "\n",
        "# calculating regression coefficients such as slope and intercept\n",
        "# b_1 = m ; b_0 = c as in y=mx+c\n",
        "\tb_1 = SS_xy / SS_xx\n",
        "\tb_0 = m_y - b_1*m_x\n",
        "\n",
        "\treturn (b_0, b_1)\n",
        "\n",
        "def plot_regression_line(x, y, b):\n",
        "\n",
        "# plotting in scatter plot\n",
        "\tplt.scatter(x, y, color = \"m\",\n",
        "\tmarker = \"o\", s = 30)\n",
        "# y_pred=c+mx\n",
        "\ty_pred = b[0] + b[1]*x\n",
        "# plotting the actual line\n",
        "\tplt.plot(x, y_pred, color = \"g\")\n",
        "\n",
        "\tplt.xlabel('x')\n",
        "\tplt.ylabel('y')\n",
        "\tplt.show()\n",
        "\n",
        "def main():\n",
        "# given values\n",
        "\tx = np.array([0.5,1.2,2.9,4.5,5.7,7,8.6,9.3])\n",
        "\ty = np.array([-2.852906065,-0.008803388377,9.003697518,55.90061908,101.9399969,171.8233063,286.2120782,343.6170683])\n",
        " \n",
        "# coefficients\n",
        "\tb = estimate_coef(x, y)\n",
        "\tprint(\"Estimated coefficients:\\nb_0 = {} \\\n",
        "\t\t\\nb_1 = {}\".format(b[0], b[1]))\n",
        "\n",
        "# plotting\n",
        "\tplot_regression_line(x, y, b)\n",
        "\n",
        "if __name__ == \"__main__\":\n",
        "\tmain()\n",
        " "
      ]
    },
    {
      "cell_type": "code",
      "source": [
        "b_0 = -72.12610851703226 \t\t\n",
        "b_1 = 38.85752959649575\n",
        "x = 6.5\n",
        "\n",
        "y = b_1*x+b_0\n",
        "print (y)"
      ],
      "metadata": {
        "colab": {
          "base_uri": "https://localhost:8080/"
        },
        "id": "8jfN8YuQLc36",
        "outputId": "9790b198-e8b0-4b70-9023-fb6362d1556e"
      },
      "execution_count": 5,
      "outputs": [
        {
          "output_type": "stream",
          "name": "stdout",
          "text": [
            "180.44783386019012\n"
          ]
        }
      ]
    }
  ]
}